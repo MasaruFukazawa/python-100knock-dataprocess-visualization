{
 "cells": [
  {
   "cell_type": "markdown",
   "id": "56b92be5-cfcb-4ca4-a2d1-4e3fecb9e83f",
   "metadata": {},
   "source": [
    "## 第5章 画像データの加工・可視化を行う10本ノック"
   ]
  },
  {
   "cell_type": "markdown",
   "id": "29a957bd-272c-4773-bb3b-30e7cac61ac3",
   "metadata": {},
   "source": [
    "### ノック61 : 画像ファイルを読み込んで表示しよう"
   ]
  },
  {
   "cell_type": "code",
   "execution_count": 2,
   "id": "b966f6ee-4dff-4cee-a9b6-ed9b38602791",
   "metadata": {},
   "outputs": [
    {
     "data": {
      "text/plain": [
       "array([[[ 8, 10,  4],\n",
       "        [ 8, 10,  4],\n",
       "        [ 8, 10,  4],\n",
       "        ...,\n",
       "        [47, 69, 45],\n",
       "        [46, 66, 47],\n",
       "        [45, 65, 46]],\n",
       "\n",
       "       [[ 8, 10,  4],\n",
       "        [ 8, 10,  4],\n",
       "        [ 8, 10,  4],\n",
       "        ...,\n",
       "        [50, 72, 48],\n",
       "        [49, 70, 48],\n",
       "        [48, 69, 47]],\n",
       "\n",
       "       [[ 9, 12,  3],\n",
       "        [ 9, 12,  3],\n",
       "        [ 9, 12,  3],\n",
       "        ...,\n",
       "        [52, 74, 49],\n",
       "        [50, 72, 48],\n",
       "        [48, 70, 46]],\n",
       "\n",
       "       ...,\n",
       "\n",
       "       [[20, 48,  5],\n",
       "        [17, 47,  4],\n",
       "        [15, 46,  1],\n",
       "        ...,\n",
       "        [27, 32, 31],\n",
       "        [21, 21, 27],\n",
       "        [15, 14, 23]],\n",
       "\n",
       "       [[18, 49,  4],\n",
       "        [17, 48,  3],\n",
       "        [15, 47,  0],\n",
       "        ...,\n",
       "        [27, 31, 25],\n",
       "        [20, 22, 22],\n",
       "        [17, 16, 18]],\n",
       "\n",
       "       [[18, 50,  3],\n",
       "        [16, 48,  1],\n",
       "        [12, 46,  0],\n",
       "        ...,\n",
       "        [26, 32, 21],\n",
       "        [21, 22, 18],\n",
       "        [17, 17, 17]]], dtype=uint8)"
      ]
     },
     "execution_count": 2,
     "metadata": {},
     "output_type": "execute_result"
    }
   ],
   "source": [
    "import cv2\n",
    "img = cv2.imread('../data/sample.jpg')\n",
    "img"
   ]
  },
  {
   "cell_type": "markdown",
   "id": "1edcc192-9b8d-4908-8221-74b74907bbf9",
   "metadata": {},
   "source": [
    "### ノック62 : 画像データの中身を確認しよう"
   ]
  },
  {
   "cell_type": "markdown",
   "id": "562c0f40-d919-4381-b670-ca1b04802a7d",
   "metadata": {},
   "source": [
    "#### データ形式の表示 ( 高さ x 横 x 色の数 )"
   ]
  },
  {
   "cell_type": "code",
   "execution_count": 3,
   "id": "3e73eae0-9478-4f5c-8597-0e4d8e87c289",
   "metadata": {},
   "outputs": [
    {
     "data": {
      "text/plain": [
       "(3456, 5184, 3)"
      ]
     },
     "execution_count": 3,
     "metadata": {},
     "output_type": "execute_result"
    }
   ],
   "source": [
    "img.shape"
   ]
  },
  {
   "cell_type": "markdown",
   "id": "49587c29-4488-47aa-9bda-5150fd46ba1c",
   "metadata": {},
   "source": [
    "#### 0番目の高さデータのデータの取得"
   ]
  },
  {
   "cell_type": "code",
   "execution_count": 4,
   "id": "f3364bac-bdd1-45dd-8598-c74bf989d2b3",
   "metadata": {},
   "outputs": [
    {
     "data": {
      "text/plain": [
       "array([[ 8, 10,  4],\n",
       "       [ 8, 10,  4],\n",
       "       [ 8, 10,  4],\n",
       "       ...,\n",
       "       [47, 69, 45],\n",
       "       [46, 66, 47],\n",
       "       [45, 65, 46]], dtype=uint8)"
      ]
     },
     "metadata": {},
     "output_type": "display_data"
    },
    {
     "data": {
      "text/plain": [
       "(5184, 3)"
      ]
     },
     "metadata": {},
     "output_type": "display_data"
    }
   ],
   "source": [
    "display(img[0])\n",
    "display(img[0].shape)"
   ]
  },
  {
   "cell_type": "markdown",
   "id": "c5ad8cf0-ac9e-470e-bd47-663af1fd98e8",
   "metadata": {},
   "source": [
    "#### 0番目の横幅データのデータの取得"
   ]
  },
  {
   "cell_type": "code",
   "execution_count": 5,
   "id": "42741109-70f3-4c70-a084-b12258b10f9e",
   "metadata": {},
   "outputs": [
    {
     "data": {
      "text/plain": [
       "array([[ 8, 10,  4],\n",
       "       [ 8, 10,  4],\n",
       "       [ 9, 12,  3],\n",
       "       ...,\n",
       "       [20, 48,  5],\n",
       "       [18, 49,  4],\n",
       "       [18, 50,  3]], dtype=uint8)"
      ]
     },
     "metadata": {},
     "output_type": "display_data"
    },
    {
     "data": {
      "text/plain": [
       "(3456, 3)"
      ]
     },
     "metadata": {},
     "output_type": "display_data"
    }
   ],
   "source": [
    "display(img[:, 0])\n",
    "display(img[:, 0].shape)"
   ]
  },
  {
   "cell_type": "markdown",
   "id": "210b7ecb-27c7-4b7f-9370-0b17e3315e55",
   "metadata": {},
   "source": [
    "### ノック63 : 画像データを切り出してみよう"
   ]
  },
  {
   "cell_type": "code",
   "execution_count": 9,
   "id": "b5470d6b-1e7c-42c4-83c7-61d359d16e0a",
   "metadata": {},
   "outputs": [],
   "source": [
    "#img_extract = img[700:1200, 300:800, :]\n",
    "#cv2_imshow(img_extract)"
   ]
  },
  {
   "cell_type": "markdown",
   "id": "c4f722d0-17e1-4824-8e45-1a51ef4cbdaa",
   "metadata": {},
   "source": [
    "### ノック64 : カラーヒストグラムを可視化しよう"
   ]
  },
  {
   "cell_type": "code",
   "execution_count": 11,
   "id": "696d6360-9ff6-4741-875d-f3df7eb1a293",
   "metadata": {},
   "outputs": [
    {
     "data": {
      "text/plain": [
       "(256, 1)"
      ]
     },
     "metadata": {},
     "output_type": "display_data"
    },
    {
     "data": {
      "text/plain": [
       "array([[316922.],\n",
       "       [163325.],\n",
       "       [130665.],\n",
       "       [ 97818.],\n",
       "       [ 81594.]], dtype=float32)"
      ]
     },
     "execution_count": 11,
     "metadata": {},
     "output_type": "execute_result"
    }
   ],
   "source": [
    "hist_b = cv2.calcHist([img], channels=[0], mask=None, histSize=[256], ranges=[0, 256])\n",
    "display(hist_b.shape)\n",
    "\n",
    "hist_b[:5]"
   ]
  },
  {
   "cell_type": "code",
   "execution_count": null,
   "id": "becd478b-f966-4561-8244-1f7434d14945",
   "metadata": {},
   "outputs": [],
   "source": []
  },
  {
   "cell_type": "code",
   "execution_count": null,
   "id": "51642f60-0568-48a9-8f22-09dfa5ee3e3d",
   "metadata": {},
   "outputs": [],
   "source": []
  },
  {
   "cell_type": "code",
   "execution_count": null,
   "id": "ef0cca60-bee7-47fe-b134-6e5be12b3a61",
   "metadata": {},
   "outputs": [],
   "source": []
  },
  {
   "cell_type": "code",
   "execution_count": null,
   "id": "646bb541-6ec4-479b-bd37-d346027769a1",
   "metadata": {},
   "outputs": [],
   "source": []
  },
  {
   "cell_type": "code",
   "execution_count": null,
   "id": "6d09932a-4c61-4899-a321-6786044f9aba",
   "metadata": {},
   "outputs": [],
   "source": []
  },
  {
   "cell_type": "code",
   "execution_count": null,
   "id": "40d6dc62-26a6-419e-a228-cb0ba622a73d",
   "metadata": {},
   "outputs": [],
   "source": []
  },
  {
   "cell_type": "code",
   "execution_count": null,
   "id": "3e4e5f6a-5a13-47bd-a0b6-503aa384749d",
   "metadata": {},
   "outputs": [],
   "source": []
  }
 ],
 "metadata": {
  "kernelspec": {
   "display_name": "Python 3 (ipykernel)",
   "language": "python",
   "name": "python3"
  },
  "language_info": {
   "codemirror_mode": {
    "name": "ipython",
    "version": 3
   },
   "file_extension": ".py",
   "mimetype": "text/x-python",
   "name": "python",
   "nbconvert_exporter": "python",
   "pygments_lexer": "ipython3",
   "version": "3.10.8"
  }
 },
 "nbformat": 4,
 "nbformat_minor": 5
}
