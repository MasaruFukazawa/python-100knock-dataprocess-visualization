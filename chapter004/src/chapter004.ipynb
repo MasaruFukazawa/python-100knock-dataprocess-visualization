{
 "cells": [
  {
   "cell_type": "markdown",
   "id": "9ac04106-2e0a-42c3-8ddb-49c17f60e505",
   "metadata": {},
   "source": [
    "# 第2部 非構造化データ"
   ]
  },
  {
   "cell_type": "markdown",
   "id": "b6c93fc0-59c6-4e5c-8af3-193d71f9e7aa",
   "metadata": {},
   "source": [
    "## 第4章 言語データの加工・可視化を行う10本ノック"
   ]
  },
  {
   "cell_type": "code",
   "execution_count": null,
   "id": "6897f5b6-012e-449b-9495-136620442094",
   "metadata": {},
   "outputs": [],
   "source": []
  },
  {
   "cell_type": "code",
   "execution_count": null,
   "id": "e7bc3934-a1b2-4692-a6d4-80862598da84",
   "metadata": {},
   "outputs": [],
   "source": []
  },
  {
   "cell_type": "code",
   "execution_count": null,
   "id": "7831c598-ac2c-46e8-9df6-d12c2b5fb0f5",
   "metadata": {},
   "outputs": [],
   "source": []
  },
  {
   "cell_type": "code",
   "execution_count": null,
   "id": "f53b2fb7-86d6-482c-a580-9db7d009d409",
   "metadata": {},
   "outputs": [],
   "source": []
  },
  {
   "cell_type": "code",
   "execution_count": null,
   "id": "cc8bebdd-ef70-48d5-9236-1a47f4786822",
   "metadata": {},
   "outputs": [],
   "source": []
  }
 ],
 "metadata": {
  "kernelspec": {
   "display_name": "Python 3 (ipykernel)",
   "language": "python",
   "name": "python3"
  },
  "language_info": {
   "codemirror_mode": {
    "name": "ipython",
    "version": 3
   },
   "file_extension": ".py",
   "mimetype": "text/x-python",
   "name": "python",
   "nbconvert_exporter": "python",
   "pygments_lexer": "ipython3",
   "version": "3.10.8"
  }
 },
 "nbformat": 4,
 "nbformat_minor": 5
}
